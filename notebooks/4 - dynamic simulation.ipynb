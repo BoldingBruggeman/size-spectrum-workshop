{
 "metadata": {
  "language_info": {
   "codemirror_mode": {
    "name": "ipython",
    "version": 3
   },
   "file_extension": ".py",
   "mimetype": "text/x-python",
   "name": "python",
   "nbconvert_exporter": "python",
   "pygments_lexer": "ipython3",
   "version": "3.8.8"
  },
  "orig_nbformat": 2,
  "kernelspec": {
   "name": "python388jvsc74a57bd097ae724bfa85b9b34df7982b8bb8c7216f435b92902d749e4263f71162bea840",
   "display_name": "Python 3.8.8 64-bit ('base': conda)"
  }
 },
 "nbformat": 4,
 "nbformat_minor": 2,
 "cells": [
  {
   "cell_type": "code",
   "execution_count": null,
   "metadata": {},
   "outputs": [],
   "source": [
    "import numpy\n",
    "import scipy.stats\n",
    "%matplotlib widget\n",
    "from matplotlib import pyplot\n",
    "from matplotlib.dates import num2date, date2num\n",
    "import netCDF4\n",
    "from ipywidgets import widgets\n",
    "\n",
    "import sys\n",
    "sys.path.append('../extern/fabm-mizer/python')\n",
    "import mizer\n",
    "\n",
    "# Function for converting from Equivalent Spherical Diameter (micrometer) to wet mass in g\n",
    "def esd2mass(d): # d: equivalent spherical diameter in micrometer\n",
    "    V = 4./3. * numpy.pi * (numpy.array(d) / 2e6)**3  # V: volume in m3\n",
    "    return V * 1e6  # mass in g approximately equals volume in m3 multiplied by 1e6 (assumes density of 1000 kg/m3)"
   ]
  },
  {
   "source": [
    "## NEMO-MEDUSA outputs for the Agulhas bank\n",
    "\n",
    "* Extracted from 1/12° hindcast (1990 - 2015) on JASMIN\n",
    "* 33.8 - 37 °South, 20 - 27 °East, < 200 m water depth\n",
    "* Weighted depth average per grid point, weights proportional to total plankton concentration\n",
    "* Then horizontally averaged"
   ],
   "cell_type": "markdown",
   "metadata": {}
  },
  {
   "cell_type": "code",
   "execution_count": null,
   "metadata": {},
   "outputs": [],
   "source": [
    "# Read NetCDF\n",
    "path = r'../datasets/NEMO-MEDUSA-Agulhas.nc'\n",
    "with netCDF4.Dataset(path) as nc:\n",
    "    print('%s contains: %s' % (path, ', '.join(nc.variables.keys())))\n",
    "    temp = nc['thetao'][:, 0, 0]\n",
    "    ZME = nc['ZME'][:, 0, 0]\n",
    "    ZMI = nc['ZMI'][:, 0, 0]\n",
    "    PHD = nc['PHD'][:, 0, 0]\n",
    "    PHN = nc['PHN'][:, 0, 0]\n",
    "    depth = nc['bm_int'][:, 0, 0]**2 / nc['bm2_int'][:, 0, 0]\n",
    "    numtime = nc['time_counter'][:]\n",
    "    time = netCDF4.num2date(numtime, nc['time_counter'].units, only_use_cftime_datetimes=False)"
   ]
  },
  {
   "cell_type": "code",
   "execution_count": null,
   "metadata": {},
   "outputs": [],
   "source": [
    "# Plot\n",
    "fig, (ax1, ax2, ax3) = pyplot.subplots(nrows=3, figsize=(12,8), sharex=True)\n",
    "ax1.plot(time, temp)\n",
    "ax1.grid()\n",
    "ax1.set_ylabel('experienced temperature (°C)')\n",
    "\n",
    "ax2.plot(time, depth)\n",
    "ax2.grid()\n",
    "ax2.set_ylabel('interaction depth (m)')\n",
    "\n",
    "ax3.plot(time, PHN, label='non-diatom phytoplankton')\n",
    "ax3.plot(time, PHD, label='diatoms')\n",
    "ax3.plot(time, ZMI, label='microzooplankton')\n",
    "ax3.plot(time, ZME, label='mesozooplankton')\n",
    "ax3.grid()\n",
    "ax3.set_ylabel('concentration (mmol N/m³)')\n",
    "ax3.set_xlabel('time')\n",
    "ax3.legend();"
   ]
  },
  {
   "source": [
    "## Does the MEDUSA plankton community resemble a Sheldon size spectrum?"
   ],
   "cell_type": "markdown",
   "metadata": {}
  },
  {
   "cell_type": "code",
   "execution_count": null,
   "metadata": {},
   "outputs": [],
   "source": [
    "# From ESD (um) to individual wet mass (g)\n",
    "w_esd2, w_esd20, w_esd200 = esd2mass([2., 20., 200.])\n",
    "print('Wet mass for cells of ESD =   2 µm: %.3g g' % w_esd2)\n",
    "print('Wet mass for cells of ESD =  20 µm: %.3g g' % w_esd20)\n",
    "print('Wet mass for cells of ESD = 200 µm: %.3g g' % w_esd200)\n",
    "\n",
    "# Map MEDUSA PFTs to size classes\n",
    "bins = [\n",
    "    (PHN,       w_esd2,  w_esd20),\n",
    "    (PHD + ZMI, w_esd20, w_esd200),\n",
    "    (ZME,       1e-5,    1e-3),\n",
    "]\n",
    "\n",
    "# Key metrics per size bin\n",
    "left = [l for c, l, r in bins]\n",
    "width = [r - l for c, l, r in bins]\n",
    "values = [c.mean() / (numpy.log10(r) - numpy.log10(l)) for c, l, r in bins]\n",
    "sd = [c.std() / (numpy.log10(r) - numpy.log10(l)) for c, l, r in bins]\n",
    "\n",
    "# Create plot\n",
    "fig, ax = pyplot.subplots()\n",
    "ax.bar(left, values, width=width, align='edge', ec='k')\n",
    "ax.errorbar([numpy.sqrt(l*r) for c, l, r in bins], values, yerr=sd, fmt='none', ecolor='k', capsize=5)\n",
    "ax.set_xscale('log')\n",
    "ax.set_ylabel('concentration (mmol N/m³) per bin width in log space')\n",
    "ax.set_xlabel('individual wet mass (g)')\n",
    "ax.set_title('long-term average of PFT concentration per size class')\n",
    "ax.grid()"
   ]
  },
  {
   "source": [
    "## Configure the size spectrum model"
   ],
   "cell_type": "markdown",
   "metadata": {}
  },
  {
   "cell_type": "code",
   "execution_count": null,
   "metadata": {},
   "outputs": [],
   "source": [
    "w_min = 1e-3\n",
    "w_inf = 1e6\n",
    "\n",
    "# Parameters of the size spectrum model (mizer, http://dx.doi.org/10.1111/2041-210X.12256)\n",
    "parameters = {\n",
    "    'w_min': w_min,\n",
    "    'w_inf': w_inf,\n",
    "    'nclass': int(100 * (numpy.log10(w_inf) - numpy.log10(w_min)) / 9.),\n",
    "    'T_dependence': 1,\n",
    "    'T_ref': 13.,\n",
    "    'E_a': 0.63,\n",
    "    'beta': 100,\n",
    "    'sigma': float(numpy.log(10.)),\n",
    "    'gamma': 156,\n",
    "    'q': 0.82,\n",
    "    #'n': 0.82, #0.93,\n",
    "    'alpha': 0.2,\n",
    "    'z0_type': 1,\n",
    "    'z0pre': 0.1,\n",
    "    'z0exp': -0.25,\n",
    "    'w_s': 1000.,\n",
    "    'z_s': 0.3,\n",
    "    'ks': 0.,\n",
    "    'SRR': 0,\n",
    "    'recruitment': 0.,\n",
    "    'h': 1e9, #30\n",
    "    'fishing_type': 1,\n",
    "    'w_minF': 1.25, # Blanchard et al 2012\n",
    "    'F': 0.4 #4 #8  # note: need to put double the intended value due to fisheries equation!\n",
    "}\n",
    "\n",
    "w_esd2, w_esd20, w_esd200 = esd2mass([2., 20., 200.])\n",
    "\n",
    "scale_factor = 10 * 0.001 * 12 * 106. / 16. # 10 g wet mass/g carbon * 0.001 g C/mg C * 12 mg C/mmol C * 106/16 mmol C/mmol N\n",
    "prey = []\n",
    "for long_name, w_range, ncname in [\n",
    "    ('diatoms',                  (w_esd20, w_esd200), 'PHD'),\n",
    "    ('non-diatom phytoplankton', (w_esd2,  w_esd20),  'PHN'),\n",
    "    ('microplankton',            (w_esd20, w_esd200), 'ZMI'),\n",
    "    ('mesoplankton',             (1e-5,    1e-3),     'ZME')\n",
    "]:\n",
    "    timeseries = mizer.datasources.TimeSeries(path, ncname, x=0, y=0, scale_factor=scale_factor, time_name='time_counter', allow_mask=True)\n",
    "    prey.append(mizer.Prey(long_name, w_range, timeseries))\n",
    "prey_collection = mizer.PreyCollection(*prey)\n",
    "prey_collection = mizer.GriddedPreyCollection(prey_collection)\n",
    "\n",
    "# Environmental conditions\n",
    "temp = mizer.datasources.TimeSeries(path, 'thetao', x=0, y=0, time_name='time_counter', allow_mask=True)\n",
    "depth = mizer.datasources.TimeSeries(path, 'bm_int**2/bm2_int', x=0, y=0, time_name='time_counter', allow_mask=True)\n",
    "\n",
    "# create mizer model\n",
    "m = mizer.Mizer(prey=prey_collection, parameters=parameters, temperature=temp, depth=depth, recruitment_from_prey=2, verbose=False)"
   ]
  },
  {
   "source": [
    "## Time integrate"
   ],
   "cell_type": "markdown",
   "metadata": {}
  },
  {
   "cell_type": "code",
   "execution_count": null,
   "metadata": {},
   "outputs": [],
   "source": [
    "# Note: the model is spun up for several years (spinup argument below).\n",
    "# During this spinup it is forced with the time average of all forcing fields (no seasonal cycle!)\n",
    "result = m.run(temp.times, spinup=50, verbose=True, save_spinup=False, save_loss_rates=True, save_f=True)"
   ]
  },
  {
   "source": [
    "## Plot results"
   ],
   "cell_type": "markdown",
   "metadata": {}
  },
  {
   "cell_type": "code",
   "execution_count": null,
   "metadata": {},
   "outputs": [],
   "source": [
    "normalization = 0   # 0: Sheldon spectrum (biomass per bin), 1: biomass density, 2: abundance density\n",
    "\n",
    "# Characteristics of bins of the predator psectrum\n",
    "log_bin_masses = numpy.log10(m.bin_masses)\n",
    "dbin = log_bin_masses[1] - log_bin_masses[0]\n",
    "bin_width = 10.**(log_bin_masses + 0.5 * dbin) - 10.**(log_bin_masses - 0.5 * dbin)\n",
    "\n",
    "# Characteristics of bins of the prey psectrum\n",
    "log_prey_masses = numpy.log10(m.prey.masses)\n",
    "dprey = log_prey_masses[1] - log_prey_masses[0]\n",
    "prey_bin_width = 10.**(log_prey_masses + 0.5 * dprey) - 10.**(log_prey_masses - 0.5 * dprey)\n",
    "\n",
    "fig, ax = pyplot.subplots()\n",
    "\n",
    "if normalization == 0:\n",
    "    # Sheldon-type spectrum (expected slope = 0)\n",
    "    values = result.spectrum / dbin\n",
    "    prey_values = result.y[:, m.prey_indices] * result.depth[:, numpy.newaxis] / dprey\n",
    "    ax.set_ylabel('wet mass (g) per log10 individual size')\n",
    "elif normalization == 1:\n",
    "    # biomass density (expected slope = -1)\n",
    "    values = result.spectrum / bin_width\n",
    "    prey_values = result.y[:, m.prey_indices] * result.depth[:, numpy.newaxis] / prey_bin_width\n",
    "    ax.set_ylabel('wet mass density (g/g)')\n",
    "elif normalization == 2:\n",
    "    # abundance density (expected slope = -2)\n",
    "    values = result.spectrum / bin_width / m.bin_masses\n",
    "    prey_values = result.y[:, m.prey_indices] * result.depth[:, numpy.newaxis] / prey_bin_width / m.prey.masses\n",
    "    ax.set_ylabel('abundance density (#/g)')\n",
    "\n",
    "# Determine suitable y axis range for entire time period\n",
    "minval, prey_min = values.min(), prey_values.min()\n",
    "if prey_min > 0: minval = min(minval, prey_min)\n",
    "maxval = max(values.max(), prey_values.max())\n",
    "ax.set_ylim(minval / 10, maxval * 10)\n",
    "\n",
    "# Plot spectrum\n",
    "prey_line, = ax.loglog(m.prey.masses, prey_values[0, :], '.')\n",
    "predator_line, = ax.loglog(m.bin_masses, values[0, :], '.')\n",
    "ax.grid(True)\n",
    "ax.set_xlabel('wet mass (g)')\n",
    "title = ax.set_title(num2date(result.t[0]).strftime('%Y-%m-%d'))\n",
    "\n",
    "# Allow for changing the time step with a slider\n",
    "def update_spectrum(itime=0):\n",
    "    prey_line.set_ydata(prey_values[itime, :])\n",
    "    predator_line.set_ydata(values[itime, :])\n",
    "    title.set_text(num2date(result.t[itime]).strftime('%Y-%m-%d'))\n",
    "slider = widgets.interact(update_spectrum, itime=(0, len(result.t) - 1))"
   ]
  },
  {
   "source": [
    "## Total biomass"
   ],
   "cell_type": "markdown",
   "metadata": {}
  },
  {
   "cell_type": "code",
   "execution_count": null,
   "metadata": {},
   "outputs": [],
   "source": [
    "result.plot_biomass_timeseries()"
   ]
  },
  {
   "source": [
    "## Landings\n",
    "\n",
    "Remember: our fisheries parameterisation is embarassingly primitive!"
   ],
   "cell_type": "markdown",
   "metadata": {}
  },
  {
   "cell_type": "code",
   "execution_count": null,
   "metadata": {},
   "outputs": [],
   "source": [
    "result.plot_timeseries('landings')\n",
    "result.plot_annual_mean('landings', plot_change=True)"
   ]
  },
  {
   "source": [
    "## The \"large fish index\"\n",
    "\n",
    "The LFI describes the fraction of biomass in the fish community that is present is fish larger than \"some threshold\".\n",
    "\n",
    "It is a commonly used metric to assess Good Environmental Status, or to summarize changes in the fish community under scenarios describing changes in fisheries pressure and/or climate.\n",
    "\n",
    "Caveat: a \"large fish\" is typically defined in terms of length. We need to convert that to wet mass to retrieve the LFI from our results."
   ],
   "cell_type": "markdown",
   "metadata": {}
  },
  {
   "cell_type": "code",
   "execution_count": null,
   "metadata": {},
   "outputs": [],
   "source": [
    "Lmin_lfi = 40.        # minimum length (cm) for a \"large fish\" based on Greenstreet et al., 2011 (https://doi.org/10.1093/icesjms/fsq156)\n",
    "a, b = 0.0076, 2.96   # allometric coefficients to convert length into weight (Garcia et al. subm, based on https://www.cefas.co.uk/publications/techrep/TechRep150.pdf)\n",
    "wmin_lfi = a * Lmin_lfi**b\n",
    "lfi = result.get_lfi_timeseries(wmin_lfi)\n",
    "fig, ax = pyplot.subplots()\n",
    "ax.plot_date(result.t, lfi, '-')\n",
    "ax.set_ylabel('fraction of fish > %.1f g' % wmin_lfi)\n",
    "ax.grid()"
   ]
  },
  {
   "source": [
    "## Mortality rates"
   ],
   "cell_type": "markdown",
   "metadata": {}
  },
  {
   "source": [
    "## Saving results"
   ],
   "cell_type": "markdown",
   "metadata": {}
  },
  {
   "cell_type": "code",
   "execution_count": null,
   "metadata": {},
   "outputs": [],
   "source": [
    "# Save results in NetCDF format\n",
    "result.save_as_nc('result.nc')"
   ]
  },
  {
   "cell_type": "code",
   "execution_count": null,
   "metadata": {},
   "outputs": [],
   "source": []
  }
 ]
}