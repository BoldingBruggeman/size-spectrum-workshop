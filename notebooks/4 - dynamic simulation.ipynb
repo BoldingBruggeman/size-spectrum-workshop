{
 "metadata": {
  "language_info": {
   "codemirror_mode": {
    "name": "ipython",
    "version": 3
   },
   "file_extension": ".py",
   "mimetype": "text/x-python",
   "name": "python",
   "nbconvert_exporter": "python",
   "pygments_lexer": "ipython3",
   "version": "3.8.8"
  },
  "orig_nbformat": 2,
  "kernelspec": {
   "name": "python388jvsc74a57bd097ae724bfa85b9b34df7982b8bb8c7216f435b92902d749e4263f71162bea840",
   "display_name": "Python 3.8.8 64-bit ('base': conda)"
  }
 },
 "nbformat": 4,
 "nbformat_minor": 2,
 "cells": [
  {
   "cell_type": "code",
   "execution_count": null,
   "metadata": {},
   "outputs": [],
   "source": [
    "import numpy\n",
    "import scipy.stats\n",
    "%matplotlib widget\n",
    "from matplotlib import pyplot\n",
    "import netCDF4\n",
    "\n",
    "import sys\n",
    "sys.path.append('../extern/fabm-mizer/python')\n",
    "import mizer"
   ]
  },
  {
   "cell_type": "code",
   "execution_count": null,
   "metadata": {},
   "outputs": [],
   "source": [
    "path = r'../datasets/NEMO-MEDUSA-Agulhas.nc'\n",
    "with netCDF4.Dataset(path) as nc:\n",
    "    print('%s contains: %s' % (path, ', '.join(nc.variables.keys())))\n",
    "    temp = nc['thetao'][:, 0, 0]\n",
    "    ZME = nc['ZME'][:, 0, 0]\n",
    "    ZMI = nc['ZMI'][:, 0, 0]\n",
    "    PHD = nc['PHD'][:, 0, 0]\n",
    "    PHN = nc['PHN'][:, 0, 0]\n",
    "    depth = nc['bm_int'][:, 0, 0]**2 / nc['bm2_int'][:, 0, 0]\n",
    "    numtime = nc['time_counter'][:]\n",
    "    time = netCDF4.num2date(numtime, nc['time_counter'].units, only_use_cftime_datetimes=False)"
   ]
  },
  {
   "cell_type": "code",
   "execution_count": null,
   "metadata": {},
   "outputs": [],
   "source": [
    "fig, (ax1, ax2, ax3) = pyplot.subplots(nrows=3, figsize=(12,8), sharex=True)\n",
    "ax1.plot(time, temp)\n",
    "ax1.grid()\n",
    "ax1.set_ylabel('experienced temperature (°C)')\n",
    "\n",
    "ax2.plot(time, depth)\n",
    "ax2.grid()\n",
    "ax2.set_ylabel('interaction depth (m)')\n",
    "\n",
    "ax3.plot(time, PHN, label='non-diatom phytoplankton')\n",
    "ax3.plot(time, PHD, label='diatoms')\n",
    "ax3.plot(time, ZMI, label='microzooplankton')\n",
    "ax3.plot(time, ZME, label='mesozooplankton')\n",
    "ax3.grid()\n",
    "ax3.set_ylabel('concentration (mmol N/m³)')\n",
    "ax3.set_xlabel('time')\n",
    "ax3.legend();"
   ]
  },
  {
   "cell_type": "code",
   "execution_count": null,
   "metadata": {},
   "outputs": [],
   "source": [
    "w_min = 1e-3\n",
    "w_inf = 1e6\n",
    "\n",
    "# Parameters of the size spectrum model (mizer, http://dx.doi.org/10.1111/2041-210X.12256)\n",
    "parameters = {\n",
    "    'w_min': w_min,\n",
    "    'w_inf': w_inf,\n",
    "    'nclass': int(100 * (numpy.log10(w_inf) - numpy.log10(w_min)) / 9.),\n",
    "    'T_dependence': 1,\n",
    "    'T_ref': 13.,\n",
    "    'E_a': 0.63,\n",
    "    'beta': 100,\n",
    "    'sigma': float(numpy.log(10.)),\n",
    "    'gamma': 156,\n",
    "    'q': 0.82,\n",
    "    #'n': 0.82, #0.93,\n",
    "    'alpha': 0.2,\n",
    "    'z0_type': 1,\n",
    "    'z0pre': 0.1,\n",
    "    'z0exp': -0.25,\n",
    "    'w_s': 1000.,\n",
    "    'z_s': 0.3,\n",
    "    'ks': 0.,\n",
    "    'SRR': 0,\n",
    "    'recruitment': 0.,\n",
    "    'h': 1e9, #30\n",
    "    'fishing_type': 1,\n",
    "    'w_minF': 1.25, # Blanchard et al 2012\n",
    "    'F': 0.4 #4 #8  # note: need to put double the intended value due to fisheries equation!\n",
    "}\n",
    "\n",
    "# Function for converting from Equivalent Spherical Diameter (micrometer) to wet mass in g\n",
    "def esd2mass(d): # d: equivalent spherical diameter in micrometer\n",
    "    V = 4./3. * numpy.pi * (numpy.array(d) / 2e6)**3  # V: volume in m3\n",
    "    return V*1e6  # mass in g approximately equals volume in m3 multiplied by 1e6 (assumes density of 1000 kg/m3)\n",
    "\n",
    "w_esd2, w_esd20, w_esd200 = esd2mass([2., 20., 200.])\n",
    "\n",
    "scale_factor = 10 * 0.001 * 12 * 106. / 16. # 10 g wet mass/g carbon * 0.001 g C/mg C * 12 mg C/mmol C * 106/16 mmol C/mmol N\n",
    "prey = []\n",
    "for long_name, w_range, ncname in [\n",
    "    ('diatoms',                  (w_esd20, w_esd200), 'PHD'),\n",
    "    ('non-diatom phytoplankton', (w_esd2,  w_esd20),  'PHN'),\n",
    "    ('microplankton',            (w_esd20, w_esd200), 'ZMI'),\n",
    "    ('mesoplankton',             (1e-5,    1e-3),     'ZME')\n",
    "]:\n",
    "    timeseries = mizer.datasources.TimeSeries(path, ncname, x=0, y=0, scale_factor=scale_factor, time_name='time_counter', allow_mask=True)\n",
    "    prey.append(mizer.Prey(long_name, w_range, timeseries))\n",
    "prey_collection = mizer.PreyCollection(*prey)\n",
    "prey_collection = mizer.GriddedPreyCollection(prey_collection)\n",
    "\n",
    "# Environmental conditions\n",
    "temp = mizer.datasources.TimeSeries(path, 'thetao', x=0, y=0, time_name='time_counter', allow_mask=True)\n",
    "depth = mizer.datasources.TimeSeries(path, 'bm_int**2/bm2_int', x=0, y=0, time_name='time_counter', allow_mask=True)\n",
    "\n",
    "# create mizer model\n",
    "m = mizer.Mizer(prey=prey_collection, parameters=parameters, temperature=temp, depth=depth, recruitment_from_prey=2)"
   ]
  },
  {
   "cell_type": "code",
   "execution_count": null,
   "metadata": {},
   "outputs": [],
   "source": [
    "# Time-integrate\n",
    "result = m.run(temp.times, spinup=50, verbose=True, save_spinup=False, save_loss_rates=True, save_f=True)"
   ]
  },
  {
   "cell_type": "code",
   "execution_count": null,
   "metadata": {},
   "outputs": [],
   "source": [
    "from ipywidgets import widgets\n",
    "def show_spectrum(day):\n",
    "    result.plot_spectrum(day, normalization=0, global_range=True)\n",
    "slider = widgets.interact(show_spectrum, day=(0, len(result.t)-1))"
   ]
  },
  {
   "cell_type": "code",
   "execution_count": null,
   "metadata": {},
   "outputs": [],
   "source": [
    "result.plot_biomass_timeseries()\n",
    "result.plot_timeseries('landings')\n",
    "result.plot_annual_mean('landings', plot_change=True)"
   ]
  },
  {
   "cell_type": "code",
   "execution_count": null,
   "metadata": {},
   "outputs": [],
   "source": [
    "anim = result.animate_spectrum(normalization=0)"
   ]
  }
 ]
}