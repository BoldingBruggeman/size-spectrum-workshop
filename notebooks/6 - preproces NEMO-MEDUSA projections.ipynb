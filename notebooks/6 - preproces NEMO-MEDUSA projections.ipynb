{
 "metadata": {
  "language_info": {
   "codemirror_mode": {
    "name": "ipython",
    "version": 3
   },
   "file_extension": ".py",
   "mimetype": "text/x-python",
   "name": "python",
   "nbconvert_exporter": "python",
   "pygments_lexer": "ipython3",
   "version": "3.8.8"
  },
  "orig_nbformat": 2,
  "kernelspec": {
   "name": "python388jvsc74a57bd097ae724bfa85b9b34df7982b8bb8c7216f435b92902d749e4263f71162bea840",
   "display_name": "Python 3.8.8 64-bit ('base': conda)"
  }
 },
 "nbformat": 4,
 "nbformat_minor": 2,
 "cells": [
  {
   "cell_type": "code",
   "execution_count": null,
   "metadata": {},
   "outputs": [],
   "source": [
    "import glob\n",
    "import os.path\n",
    "\n",
    "import netCDF4\n",
    "import numpy"
   ]
  },
  {
   "cell_type": "code",
   "execution_count": null,
   "metadata": {},
   "outputs": [],
   "source": [
    "time_name = 'time_average_5d'\n",
    "depth_name = 'deptht'"
   ]
  },
  {
   "cell_type": "code",
   "execution_count": null,
   "metadata": {},
   "outputs": [],
   "source": [
    "# Step 1: combine yearly NetCDF grid/ptrc files into one complete forcing file\n",
    "# This also adds a variable for cell thicknesses\n",
    "\n",
    "thickness = numpy.array(\"\"\"1.0200 \t    1.0800\t    1.1500\t    1.2300\t    1.3400\t    1.4700\t    1.6300\t    1.8300\t    2.0800\t    2.3700\t    2.7100\t    3.1100\t    3.5600\t    4.0500\t    4.5900\t    5.1500\t    5.7300\t    6.3300\t    6.9500\t    7.5800\t    8.2400\t    8.9400\t    9.7000\t   10.5300\t   11.4600\t   12.5000\t   13.6800\t   15.0100\t   16.5400\t   18.2700\t   20.2500\t   22.5000\t   25.0500\t   27.9400\t   31.1900\t   34.8300\t   38.8900\t   43.3900\t   48.3500\t   53.7600\t   59.6200\t   65.9200\t   72.6100\t   79.6600\t   87.0000\t   94.5600\t  102.2600\t  110.0100\t  117.7100\t  125.2900\t  132.6400\t  139.7100\t  146.4300\t  152.7500\t  158.6400\t  164.0800\t  169.0600\t  173.5800\t  177.6700\t  181.3300\t  184.6000\t  187.5000\t  190.0600\t  192.3100\t  194.2900\t  196.0200\t  197.5300\t  198.8400\t  199.9800\t  200.9700\t  201.8300\t  202.5700\t  203.2000\t  203.7500\t  204.2300\n",
    "\"\"\".split('\\t'), dtype=float)\n",
    "\n",
    "def combine(dir_path, path_out, last_year=None):\n",
    "    time_units, z = None, None\n",
    "    data = {}\n",
    "    for path in sorted(glob.glob(os.path.join(dir_path, '*grid_T.nc'))):\n",
    "        print(path)\n",
    "        with netCDF4.Dataset(path) as nc:\n",
    "            nctime = nc[time_name]\n",
    "            if time_units is None:\n",
    "                time_units = nctime.units\n",
    "                z = nc[depth_name][:]\n",
    "            assert time_units == nctime.units, 'Time units mismatch: %s vs %s' % (time_units, nctime.units)\n",
    "            numtime = nctime[:]\n",
    "            data.setdefault('votemper', []).append(nc['votemper'][:, :, 0, 0])\n",
    "            data.setdefault('numtime', []).append(numtime)\n",
    "        with netCDF4.Dataset(path.replace('_grid_', '_ptrc_')) as nc:\n",
    "            nctime = nc[time_name]\n",
    "            assert time_units == nctime.units, 'Time units mismatch between grid and ptrc: %s vs %s' % (time_units, nctime.units)\n",
    "            assert numtime.shape == nctime.shape, 'Time shape mismatch between grid and ptrc: %s vs %s' % (numtime.shape, nctime.shape)    \n",
    "            assert (numtime == nctime[:]).all(), 'Time value mismatch between grid and ptrc: %s vs %s' % (numtime, nctime[:])\n",
    "            data.setdefault('PHN', []).append(nc['PHN'][:, :, 0, 0])\n",
    "            data.setdefault('PHD', []).append(nc['PHD'][:, :, 0, 0])\n",
    "            data.setdefault('ZMI', []).append(nc['ZMI'][:, :, 0, 0])\n",
    "            data.setdefault('ZME', []).append(nc['ZME'][:, :, 0, 0])\n",
    "        if last_year is not None and path.endswith('%04i_grid_T.nc' % last_year):\n",
    "            break\n",
    "\n",
    "    with netCDF4.Dataset(path_out, 'w') as nc:\n",
    "        nc.createDimension(time_name)\n",
    "        nc.createDimension(depth_name, thickness.size)\n",
    "        ncvar = nc.createVariable(depth_name, z.dtype, (depth_name,))\n",
    "        ncvar.units = 'm'\n",
    "        ncvar[:] = z\n",
    "        ncvar = nc.createVariable('h', thickness.dtype, (depth_name,))\n",
    "        ncvar.long_name = 'cell_thickness'\n",
    "        ncvar.units = 'm'\n",
    "        ncvar[:] = thickness\n",
    "\n",
    "        for name, slabs in data.items():\n",
    "            if name == 'numtime':\n",
    "                ncvar = nc.createVariable(time_name, slabs[0].dtype, (time_name,))\n",
    "                ncvar.units = time_units\n",
    "            else:\n",
    "                ncvar = nc.createVariable(name, slabs[0].dtype, (time_name, depth_name))\n",
    "            i = 0\n",
    "            for slab in slabs:\n",
    "                ncvar[i:i + slab.shape[0], ...] = slab\n",
    "                i += slab.shape[0]"
   ]
  },
  {
   "cell_type": "code",
   "execution_count": null,
   "metadata": {},
   "outputs": [],
   "source": [
    "# Step 2: compute weighted depth averages\n",
    "def depth_average(path_in, path_out):\n",
    "    with netCDF4.Dataset(path_in) as ncin, netCDF4.Dataset(path_out, 'w') as ncout:\n",
    "        Ptot = ncin['PHN'][:,:] + ncin['PHD'][:,:] + ncin['ZMI'][:,:] + ncin['ZME'][:,:]\n",
    "        h = ncin['h'][:]\n",
    "        w = Ptot * h\n",
    "        w_int = w.sum(axis=1)\n",
    "        w2_int = (Ptot**2 * h).sum(axis=1)\n",
    "        nctime_in = ncin[time_name]\n",
    "        ncout.createDimension(time_name)\n",
    "        nctime_out = ncout.createVariable(time_name, nctime_in.dtype, (time_name,))\n",
    "        nctime_out.units = nctime_in.units\n",
    "        nctime_out[:] = nctime_in[:]\n",
    "        ncout.createVariable('w_int', w_int.dtype, (time_name,))[:] = w_int\n",
    "        ncout.createVariable('w2_int', w2_int.dtype, (time_name,))[:] = w2_int\n",
    "        for name in ('votemper', 'PHN', 'PHD', 'ZMI', 'ZME'):\n",
    "            average = (w * ncin[name][:,:]).sum(axis=1) / w_int\n",
    "            ncvar_in = ncin[name]\n",
    "            ncvar_out = ncout.createVariable(name, ncvar_in.dtype, (time_name,))\n",
    "            ncvar_out[:] = average"
   ]
  },
  {
   "cell_type": "code",
   "execution_count": null,
   "metadata": {
    "tags": [
     "outputPrepend"
    ]
   },
   "outputs": [],
   "source": [
    "for path in glob.glob('../datasets/NEMO-MEDUSA-projections/*'):\n",
    "    if os.path.isdir(path):\n",
    "        combine(path, path + '.nc', last_year=2046)\n",
    "        depth_average(path + '.nc', path + '_da.nc')"
   ]
  },
  {
   "cell_type": "code",
   "execution_count": null,
   "metadata": {},
   "outputs": [],
   "source": []
  }
 ]
}