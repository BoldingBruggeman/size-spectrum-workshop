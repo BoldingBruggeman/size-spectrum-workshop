{
 "metadata": {
  "language_info": {
   "codemirror_mode": {
    "name": "ipython",
    "version": 3
   },
   "file_extension": ".py",
   "mimetype": "text/x-python",
   "name": "python",
   "nbconvert_exporter": "python",
   "pygments_lexer": "ipython3",
   "version": "3.8.8"
  },
  "orig_nbformat": 2,
  "kernelspec": {
   "name": "python388jvsc74a57bd097ae724bfa85b9b34df7982b8bb8c7216f435b92902d749e4263f71162bea840",
   "display_name": "Python 3.8.8 64-bit ('base': conda)"
  }
 },
 "nbformat": 4,
 "nbformat_minor": 2,
 "cells": [
  {
   "cell_type": "code",
   "execution_count": null,
   "metadata": {},
   "outputs": [],
   "source": [
    "import datetime\n",
    "import sys\n",
    "\n",
    "import numpy\n",
    "import scipy.stats\n",
    "%matplotlib widget\n",
    "from matplotlib import pyplot\n",
    "from matplotlib.dates import num2date, date2num\n",
    "import netCDF4\n",
    "from ipywidgets import widgets\n",
    "\n",
    "sys.path.append('../extern/fabm-mizer/python')\n",
    "import mizer"
   ]
  },
  {
   "source": [
    "## Starting from a constant plankton size spectrum"
   ],
   "cell_type": "markdown",
   "metadata": {}
  },
  {
   "cell_type": "code",
   "execution_count": null,
   "metadata": {},
   "outputs": [],
   "source": [
    "# More about the parameters below can be found in:\n",
    "# * the source code: https://github.com/pmlmodelling/fabm-mizer/blob/master/src/size_structured_population.F90\n",
    "# * the mizer vignette: https://mran.microsoft.com/snapshot/2017-02-04/web/packages/mizer/vignettes/mizer_vignette.pdf\n",
    "# * Supplementary information of Blanchard et al. 2014: https://doi.org/10.1111/1365-2664.12238\n",
    "\n",
    "def run(nday=36500, c_ini=1., verbose=True, **parameter_overrides):\n",
    "    parameters = dict(\n",
    "        # spectrum partition\n",
    "        w_min=1e-3,                   # minimum size for the predator spectrum (g)\n",
    "        w_inf=1e6,                    # maximum size for the predator spectrum (g)\n",
    "        nclass=100,                   # number of size classes for the predator spectrum (g)\n",
    "\n",
    "        # temperature dependence\n",
    "        T_dependence=1,               # temperature dependence of rates (0=none, 1=Arrhenius)\n",
    "        T_ref=13.,                    # reference temperature at which all rates must be given (degrees Celsius)\n",
    "        E_a=0.63,                     # activation energy for Arrhenius relationship (eV)\n",
    "\n",
    "        # predator-prey preference\n",
    "        beta=100,                     # optimal predator : prey wet mass ratio (-)\n",
    "        sigma=float(numpy.log(10.)),  # standard devation of predator-prey preference (ln g)\n",
    "\n",
    "        # clearance, ingestion, growth efficiency\n",
    "        gamma=156,                    # scale factor for clearance rate (m3/yr/g^q) = actual rate for individuals of 1 g\n",
    "        q=0.82,                       # allometric exponent for clearance rate\n",
    "        h=1e9,                        # scale factor for maximum ingestion rate (g/yr/g^n)\n",
    "        #n=2./3.,                     # allometric exponent for maximum ingestion rate\n",
    "        alpha=0.2,                    # gross growth efficiency or assimilation efficiency (-)\n",
    "        ks=0.,                        # standard metabolism (1/yr/g^p)\n",
    "\n",
    "        # mortality\n",
    "        z0_type=1,                    # type of intrinsic mortality (0=constant, 1=allometric function)\n",
    "        z0pre=0.1,                    # scale factor for intrinsic mortality (1/yr/g^z0exp)\n",
    "        z0exp=-0.25,                  # allometric exponent for intrinsic mortality\n",
    "        z_spre=0.2,                   # scale factor for senescence mortality (1/yr)\n",
    "        w_s=1000.,                    # reference (\"starting\") individual wet mass for senescence mortality (g)\n",
    "        z_s=0.3,                      # allometric exponent for senescence mortality\n",
    "\n",
    "        # recruitment\n",
    "        SRR=0,                        # stock-recruitment relationship (0=constant recruitment, 1=equal to reproductive output, 2=Beverton-Holt)\n",
    "        recruitment=0.,               # constant recruitment rate for smallest size class (#/yr)\n",
    "\n",
    "        # fishing\n",
    "        fishing_type=1,               # fishing type (0=none, 1: knife-edge, 2: logistic/sigmoid, 3: linearly increasing)\n",
    "        w_minF=1.25,                  # minimum individual wet mass for fisheries mortality\n",
    "        F=0.4                         # maximum fisheries mortality (knife-edge: constant mortality for individuals > w_minF)\n",
    "    )\n",
    "\n",
    "    # Apply any parameter overrides that the user supplied as named arguments\n",
    "    parameters.update(parameter_overrides)\n",
    "\n",
    "    # Set up constant prey spectrum\n",
    "    prey_collection = mizer.PreyCollection(mizer.Prey('plankton', [1e-14, 1e-3], c_ini))\n",
    "    prey_collection = mizer.GriddedPreyCollection(prey_collection, extend=False)\n",
    "\n",
    "    # Create mizer model (note prescribed ambient temperature, depth of water column)\n",
    "    m = mizer.Mizer(prey=prey_collection, parameters=parameters, temperature=13., depth=50., recruitment_from_prey=2, verbose=False)\n",
    "\n",
    "    # Time integrate for requested number of days and return result\n",
    "    start = datetime.datetime(2000, 1, 1)\n",
    "    stop = start + datetime.timedelta(days=nday)\n",
    "    time = numpy.arange(date2num(start), date2num(stop))\n",
    "    return m.run(time, spinup=0, verbose=verbose, save_spinup=False, save_loss_rates=True, save_f=True, dt=1.)\n",
    "\n",
    "def run_and_plot(ax, label=None, *args, **kwargs):\n",
    "    result = run(verbose=False, *args, **kwargs)\n",
    "    result.plot_spectrum(ax=ax, style='-', label=label)"
   ]
  },
  {
   "cell_type": "code",
   "execution_count": null,
   "metadata": {},
   "outputs": [],
   "source": [
    "result = run(nday=1000, c_ini=1.)"
   ]
  },
  {
   "cell_type": "code",
   "execution_count": null,
   "metadata": {},
   "outputs": [],
   "source": [
    "def start_stop(play=True):\n",
    "    if play:\n",
    "        anim.event_source.start()\n",
    "    else:\n",
    "        anim.event_source.stop()\n",
    "anim = result.animate_spectrum(repeat=False)\n",
    "widgets.interact(start_stop);"
   ]
  },
  {
   "cell_type": "code",
   "execution_count": null,
   "metadata": {},
   "outputs": [],
   "source": [
    "fig, ax = pyplot.subplots()"
   ]
  },
  {
   "cell_type": "code",
   "execution_count": null,
   "metadata": {},
   "outputs": [],
   "source": [
    "run_and_plot(ax, label='default')"
   ]
  },
  {
   "cell_type": "code",
   "execution_count": null,
   "metadata": {},
   "outputs": [],
   "source": [
    "run_and_plot(ax, F=0, label='no fishing')"
   ]
  },
  {
   "cell_type": "code",
   "execution_count": null,
   "metadata": {},
   "outputs": [],
   "source": [
    "run_and_plot(ax, z0pre=0., z_spre=0., label='no residual mortality')"
   ]
  },
  {
   "cell_type": "code",
   "execution_count": null,
   "metadata": {},
   "outputs": [],
   "source": []
  }
 ]
}