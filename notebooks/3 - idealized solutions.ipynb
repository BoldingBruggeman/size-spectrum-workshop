{
 "metadata": {
  "language_info": {
   "codemirror_mode": {
    "name": "ipython",
    "version": 3
   },
   "file_extension": ".py",
   "mimetype": "text/x-python",
   "name": "python",
   "nbconvert_exporter": "python",
   "pygments_lexer": "ipython3",
   "version": "3.8.8"
  },
  "orig_nbformat": 2,
  "kernelspec": {
   "name": "python388jvsc74a57bd097ae724bfa85b9b34df7982b8bb8c7216f435b92902d749e4263f71162bea840",
   "display_name": "Python 3.8.8 64-bit ('base': conda)"
  }
 },
 "nbformat": 4,
 "nbformat_minor": 2,
 "cells": [
  {
   "cell_type": "code",
   "execution_count": null,
   "metadata": {},
   "outputs": [],
   "source": [
    "import datetime\n",
    "import sys\n",
    "\n",
    "import numpy\n",
    "import scipy.stats\n",
    "%matplotlib widget\n",
    "from matplotlib import pyplot\n",
    "from matplotlib.dates import num2date, date2num\n",
    "import netCDF4\n",
    "from ipywidgets import widgets\n",
    "\n",
    "sys.path.append('../extern/fabm-mizer/python')\n",
    "import mizer"
   ]
  },
  {
   "source": [
    "## Starting from a constant plankton size spectrum"
   ],
   "cell_type": "markdown",
   "metadata": {}
  },
  {
   "cell_type": "code",
   "execution_count": null,
   "metadata": {},
   "outputs": [],
   "source": [
    "def run(nday=36500, c_ini=1., verbose=True, **parameter_overrides):\n",
    "    parameters = dict(\n",
    "        w_min=1e-3,\n",
    "        w_inf=1e6,\n",
    "        nclass=100,\n",
    "        T_dependence=1,\n",
    "        T_ref=13.,\n",
    "        E_a=0.63,\n",
    "        beta=100,\n",
    "        sigma=float(numpy.log(10.)),\n",
    "        gamma=156,\n",
    "        q=0.82,\n",
    "        #n=0.82, #0.93,\n",
    "        alpha=0.2,\n",
    "        z0_type=1,\n",
    "        z0pre=0.1,\n",
    "        z0exp=-0.25,\n",
    "        w_s=1000.,\n",
    "        z_s=0.3,\n",
    "        z_spre=0.2,\n",
    "        ks=0.,\n",
    "        SRR=0,\n",
    "        recruitment=0.,\n",
    "        h=1e9, #30\n",
    "        fishing_type=1,\n",
    "        w_minF=1.25, # Blanchard et al 2012\n",
    "        F=0.4 #4 #8  # note: need to put double the intended value due to fisheries equation!\n",
    "    )\n",
    "    parameters.update(parameter_overrides)\n",
    "\n",
    "    prey_collection = mizer.PreyCollection(mizer.Prey('plankton', [1e-14, 1e-3], c_ini))\n",
    "    prey_collection = mizer.GriddedPreyCollection(prey_collection, extend=False)\n",
    "\n",
    "    # create mizer model\n",
    "    m = mizer.Mizer(prey=prey_collection, parameters=parameters, temperature=13., depth=50., recruitment_from_prey=2, verbose=False)\n",
    "\n",
    "    # time integrate\n",
    "    start = datetime.datetime(2000, 1, 1)\n",
    "    stop = start + datetime.timedelta(days=nday)\n",
    "    time = numpy.arange(date2num(start), date2num(stop))\n",
    "    return m.run(time, spinup=0, verbose=verbose, save_spinup=False, save_loss_rates=True, save_f=True, dt=1.)\n",
    "\n",
    "def run_and_plot(ax, label=None, *args, **kwargs):\n",
    "    result = run(verbose=False, *args, **kwargs)\n",
    "    result.plot_spectrum(ax=ax, style='-', label=label)"
   ]
  },
  {
   "cell_type": "code",
   "execution_count": null,
   "metadata": {},
   "outputs": [],
   "source": [
    "result = run(nday=1000, c_ini=1.)"
   ]
  },
  {
   "cell_type": "code",
   "execution_count": null,
   "metadata": {},
   "outputs": [],
   "source": [
    "def start_stop(play=True):\n",
    "    if play:\n",
    "        anim.event_source.start()\n",
    "    else:\n",
    "        anim.event_source.stop()\n",
    "anim = result.animate_spectrum(repeat=False)\n",
    "widgets.interact(start_stop);"
   ]
  },
  {
   "cell_type": "code",
   "execution_count": null,
   "metadata": {},
   "outputs": [],
   "source": [
    "fig, ax = pyplot.subplots()"
   ]
  },
  {
   "cell_type": "code",
   "execution_count": null,
   "metadata": {},
   "outputs": [],
   "source": [
    "run_and_plot(ax, label='default')"
   ]
  },
  {
   "cell_type": "code",
   "execution_count": null,
   "metadata": {},
   "outputs": [],
   "source": [
    "run_and_plot(ax, F=0, label='no fishing')"
   ]
  },
  {
   "cell_type": "code",
   "execution_count": null,
   "metadata": {},
   "outputs": [],
   "source": [
    "run_and_plot(ax, z0pre=0., z_spre=0., label='no residual mortality')"
   ]
  },
  {
   "cell_type": "code",
   "execution_count": null,
   "metadata": {},
   "outputs": [],
   "source": []
  }
 ]
}