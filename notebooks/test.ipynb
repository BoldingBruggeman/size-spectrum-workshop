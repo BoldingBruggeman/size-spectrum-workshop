{
 "metadata": {
  "language_info": {
   "codemirror_mode": {
    "name": "ipython",
    "version": 3
   },
   "file_extension": ".py",
   "mimetype": "text/x-python",
   "name": "python",
   "nbconvert_exporter": "python",
   "pygments_lexer": "ipython3",
   "version": "3.8.8-final"
  },
  "orig_nbformat": 2,
  "kernelspec": {
   "name": "python388jvsc74a57bd097ae724bfa85b9b34df7982b8bb8c7216f435b92902d749e4263f71162bea840",
   "display_name": "Python 3.8.8 64-bit (conda)"
  }
 },
 "nbformat": 4,
 "nbformat_minor": 2,
 "cells": [
  {
   "cell_type": "code",
   "execution_count": null,
   "metadata": {},
   "outputs": [],
   "source": [
    "import numpy\n",
    "import scipy.integrate\n",
    "import pyfabm\n",
    "\n",
    "%matplotlib widget\n",
    "from matplotlib import pyplot"
   ]
  },
  {
   "cell_type": "code",
   "execution_count": null,
   "metadata": {},
   "outputs": [],
   "source": [
    "# Create model (loads fabm.yaml)\n",
    "model = pyfabm.Model('../extern/fabm-medusa/testcases/fabm-medusa-original.yaml')\n",
    "\n",
    "column_depth = 50\n",
    "\n",
    "# Configure the environment\n",
    "# Note: the set of environmental dependencies depends on the loaded biogeochemical model.\n",
    "model.cell_thickness = column_depth\n",
    "model.findDependency('temperature').value = 15.\n",
    "model.findDependency('practical_salinity').value = 35.\n",
    "model.findDependency('surface_downwelling_shortwave_flux').value = 50.\n",
    "model.findDependency('density').value = 1020\n",
    "model.findDependency('cell_thickness').value = column_depth\n",
    "model.findDependency('depth').value = 0.5 * column_depth\n",
    "model.findDependency('pressure').value = 0.5 * column_depth\n",
    "model.findDependency('ice_area_fraction').value = 0\n",
    "model.findDependency('wind_speed').value = 1.\n",
    "\n",
    "# Verify the model is ready to be used\n",
    "assert model.checkReady(), 'One or more model dependencies have not been fulfilled.'"
   ]
  },
  {
   "cell_type": "code",
   "execution_count": null,
   "metadata": {},
   "outputs": [],
   "source": [
    "# Time derivative\n",
    "def dy(y, t0):\n",
    "    model.state[:] = y\n",
    "    return model.getRates()\n",
    "\n",
    "# Time-integrate over 200 days (note: FABM's internal time unit is seconds!)\n",
    "t = numpy.linspace(0, 200., 1000)\n",
    "y = scipy.integrate.odeint(dy, model.state, t*86400)"
   ]
  },
  {
   "cell_type": "code",
   "execution_count": null,
   "metadata": {},
   "outputs": [],
   "source": [
    "# Plot results\n",
    "fig, ax = pyplot.subplots()\n",
    "for i, variable in enumerate(model.state_variables):\n",
    "    if variable.name in ('pelagic/PHN', 'pelagic/PHD', 'pelagic/ZME', 'pelagic/ZMI'):\n",
    "        ax.plot(t, y[:,i], label=variable.long_name)\n",
    "ax.legend()\n",
    "ax.grid()\n",
    "ax.set_xlabel('time (d)');"
   ]
  },
  {
   "cell_type": "code",
   "execution_count": null,
   "metadata": {},
   "outputs": [],
   "source": []
  }
 ]
}