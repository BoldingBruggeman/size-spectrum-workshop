{
 "metadata": {
  "language_info": {
   "codemirror_mode": {
    "name": "ipython",
    "version": 3
   },
   "file_extension": ".py",
   "mimetype": "text/x-python",
   "name": "python",
   "nbconvert_exporter": "python",
   "pygments_lexer": "ipython3",
   "version": "3.8.8"
  },
  "orig_nbformat": 2,
  "kernelspec": {
   "name": "python388jvsc74a57bd097ae724bfa85b9b34df7982b8bb8c7216f435b92902d749e4263f71162bea840",
   "display_name": "Python 3.8.8 64-bit (conda)"
  }
 },
 "nbformat": 4,
 "nbformat_minor": 2,
 "cells": [
  {
   "source": [
    "# Ingredients of size spectrum models\n",
    "\n",
    "This document introduces the ingredients of the community size spectrum model (CSSM)\n",
    "\n",
    "Much of this can be found in [the vignette of the R package \"mizer\"](https://mran.microsoft.com/snapshot/2017-02-04/web/packages/mizer/vignettes/mizer_vignette.pdf)\n",
    "\n",
    "Other resources:\n",
    "* [Benoît & Rochet 2004](https://doi.org/10.1016/S0022-5193(03)00290-X)\n",
    "* [Blanchard et al, 2009](https://doi.org/10.1111/j.1365-2656.2008.01466.x)\n",
    "* [Hartvig et al, 2011](https://doi.org/10.1016/j.jtbi.2010.12.006)\n",
    "* [Blanchard et al, 2012](https://doi.org/10.1098/rstb.2012.0231)\n",
    "* [Scott et al, 2014](https://doi.org/10.1111/2041-210X.12256)\n",
    "* [Blanchard et al, 2014](https://doi.org/10.1111/1365-2664.12238)"
   ],
   "cell_type": "markdown",
   "metadata": {}
  },
  {
   "cell_type": "code",
   "execution_count": null,
   "metadata": {},
   "outputs": [],
   "source": [
    "import numpy\n",
    "import scipy.stats\n",
    "%matplotlib widget\n",
    "from matplotlib import pyplot"
   ]
  },
  {
   "cell_type": "code",
   "execution_count": null,
   "metadata": {},
   "outputs": [],
   "source": [
    "# Set up a grid for wet mass\n",
    "w_min, w_max = 0.0001, 1e6\n",
    "w_grid = 10.**numpy.linspace(numpy.log10(w_min), numpy.log10(w_max), 1000)"
   ]
  },
  {
   "source": [
    "## Size-based prey preference\n",
    "\n",
    "The preference of a predator with wet mass $w$ for prey of $w_p$ takes the shape of a lognormal distribution:\n",
    "\n",
    "$$\\phi(w_p/w) = \\exp\\left[\\frac{-(\\ln{(\\beta w_p / w)})^2}{2\\sigma^2}\\right]$$\n",
    "\n",
    "The optimal predator : prey mass ratio $\\beta$ is 100 in all studies referenced above, but the width of the distribution varies:\n",
    "* for a single species: $\\sigma = 1$\n",
    "* for a community: $\\sigma = 2$ ([Scott et al, 2014](https://doi.org/10.1111/2041-210X.12256)) or $\\sigma = \\ln{10} \\approx 2.3$ ([Blanchard et al, 2012](https://doi.org/10.1098/rstb.2012.0231))"
   ],
   "cell_type": "markdown",
   "metadata": {}
  },
  {
   "cell_type": "code",
   "execution_count": null,
   "metadata": {},
   "outputs": [],
   "source": [
    "beta = 100.                        # preferred predator : prey amss ratio\n",
    "sigmas = [1, 2., numpy.log(10.)]   # standard deviation of selectivity function (ln g)\n",
    "w_predator = 100.\n",
    "fig, ax = pyplot.subplots()\n",
    "for sigma in sigmas:\n",
    "    rho = numpy.exp(-(numpy.log(w_grid) - numpy.log(w_predator / beta))**2 / (2. * sigma**2))\n",
    "    ax.plot(w_grid, rho, label='$\\sigma = %.2f$' % sigma)\n",
    "ax.set_xscale('log')\n",
    "ax.axvline(w_predator, linestyle='--', color='k', label='predator mass')\n",
    "ax.set_ylabel('predator preference (-)')\n",
    "ax.set_xlabel('prey mass (g)')\n",
    "ax.grid()\n",
    "ax.legend();"
   ]
  },
  {
   "source": [
    "## Predator-prey encounter and clearance rate\n",
    "\n",
    "Available food (g/m³) is essentially the sum of all available prey, weighted by preference. With prey expressed as biomass density (concentration per unit individual mass), that sum becomes an integral over individual prey mass:\n",
    "\n",
    "$$E_a = \\int{\\phi(w_p/w)} C(w_p) dw_p$$ with $C(w_p)$ the concentration density (m-3) of prey with wet mass $w_p$\n",
    "\n",
    "Encountered food $E_e$ is the product rate of available food $E_a$ and the clearance rate $V$ (m³/yr). This rate describes the volume of water searched for prey per unit time. It is an allometric function of wet mass: $V=\\gamma w^q$."
   ],
   "cell_type": "markdown",
   "metadata": {}
  },
  {
   "cell_type": "code",
   "execution_count": null,
   "metadata": {},
   "outputs": [],
   "source": [
    "benoit_blanchard = 640 * w_grid**0.82\n",
    "acuna = 10.**14.076 * w_grid**0.926 * 1e-3 * 365 * numpy.exp(-0.65 / 8.62e-5 / (273.15 + 13))  # convert from L to m3, from 1/d to 1/yr, apply Arrhenius temperature correction\n",
    "acuna2 = 91.32 * w_grid**0.776\n",
    "kiorboe = 10.**7.31 * (0.1 * w_grid)**(1.01) * 1e-6 * 365 * 2.8**-0.2  # convert from ml to m3, from 1/d to 1/yr, apply Q10 temperature correction\n",
    "\n",
    "fig, ax = pyplot.subplots()\n",
    "\n",
    "ax.loglog(w_grid, benoit_blanchard, '-', label='Benoît et al. 2004, Blanchard et al. 2009')\n",
    "ax.loglog(w_grid[w_grid<1e4], acuna[w_grid<1e4], '-', label='Acuña et al. 2009')\n",
    "ax.loglog(w_grid[w_grid<10.], kiorboe[w_grid<10.], '-', label='Kiørboe et al. 2011')\n",
    "ax.set_xlabel('individual mass (g)')\n",
    "ax.set_ylabel('clearance rate (m³/yr)')\n",
    "ax.axhline(365., linestyle='--', color='k', label='1 m³/d')\n",
    "ax.legend()\n",
    "ax.grid()\n",
    "\n",
    "import csv\n",
    "ww, clearance = [], []\n",
    "with open('../datasets/Acuna_et_al_2012_table_S1.dat') as f:\n",
    "    for name2value in csv.DictReader(f, delimiter='\\t'):\n",
    "        if name2value['functional type'] in ('SF',):\n",
    "            temp_corr = numpy.exp(-0.65 / 8.62e-5 * (1./ (273.15 + 13.) - 1./ (273.15 + float(name2value['Temp']))))\n",
    "            ww.append(float(name2value['WW']))\n",
    "            clearance.append(float(name2value['Clearance']) * temp_corr * 1e-3 * 365)\n",
    "ax.loglog(ww, clearance, '.', mec='gray', mfc='w', label='Acuña et al. 2009 Fig2A', zorder=-1);"
   ]
  },
  {
   "source": [
    "## Consumption\n",
    "\n",
    "Type II functional response with maximum ingestion rate (g/yr) as an allometric function of wet mass: $h w^n$ \n",
    "\n",
    "$$f = \\frac{E_e}{E_e + h w^n}$$\n",
    "\n",
    "$$I = h w^n f$$\n",
    "\n",
    "For models without saturation, all encountered food is eaten.\n",
    "This is implemented by setting $h \\rightarrow \\infty$, which means $I \\rightarrow E_e$"
   ],
   "cell_type": "markdown",
   "metadata": {}
  },
  {
   "cell_type": "code",
   "execution_count": null,
   "metadata": {},
   "outputs": [],
   "source": []
  },
  {
   "source": [
    "## Fisheries mortality and its size selectivity\n",
    "* linear: [Blanchard et al, 2009](https://doi.org/10.1111/j.1365-2656.2008.01466.x)\n",
    "* knife-edge: [Blanchard et al, 2012](https://doi.org/10.1098/rstb.2012.0231)\n",
    "* sigmoid: [Blanchard et al, 2014](https://doi.org/10.1111/1365-2664.12238)"
   ],
   "cell_type": "markdown",
   "metadata": {}
  },
  {
   "cell_type": "code",
   "execution_count": null,
   "metadata": {},
   "outputs": [],
   "source": [
    "fig, (ax1, ax2, ax3) = pyplot.subplots(ncols=3, figsize=(12,5))\n",
    "\n",
    "# Linear\n",
    "f = 0.09 * numpy.log10(w_grid) + 0.04; f[w_grid < 10.] = 0\n",
    "ax1.semilogx(w_grid, f,'-')\n",
    "ax1.set_title('linear')\n",
    "\n",
    "# Knife-edge\n",
    "f1 = numpy.full_like(w_grid, 0.8); f1[w_grid < 1.25] = 0\n",
    "f2 = numpy.full_like(w_grid, 0.2); f2[w_grid < 1.25] = 0\n",
    "ax2.semilogx(w_grid, f1,'-')\n",
    "ax2.semilogx(w_grid, f2,'--')\n",
    "ax2.set_title('knife-edge')\n",
    "\n",
    "# Sigmoid\n",
    "w25 = numpy.log(10.)   # wet mass where fishing pressure is 25% of maximum\n",
    "w50 = numpy.log(100.)  # wet mass where fishing pressure is 50% of maximum\n",
    "S2 = numpy.log(3)/(w50-w25)\n",
    "S1 = S2 * w50\n",
    "f = 0.8 * 1. / (1. + numpy.exp(S1 - S2 * numpy.log(w_grid)))\n",
    "ax3.semilogx(w_grid, f, '-')\n",
    "ax3.set_title('sigmoid')\n",
    "\n",
    "ax1.set_ylabel('fisheries mortality (1/yr)')\n",
    "for ax in (ax1, ax2, ax3):\n",
    "    ax.set_xlabel('individual wet mass (g)')\n",
    "    ax.set_xlim(.001, 1e6)\n",
    "    ax.set_ylim(None, 1)\n",
    "    ax.grid()"
   ]
  },
  {
   "source": [
    "## \"Other\" mortality\n",
    "\n",
    "### Intrinsic mortality\n",
    "\n",
    "\"Mortality from sources other than predation and starvation is assumed to be constant within a species\n",
    "and inversely proportional to generation time\" (mizer vignette)\n",
    "\n",
    "$$\\mu_b = \\mu_0 w^{z_0}$$\n",
    "\n",
    "* $\\mu_0 = 0.2, z_0 = -0.25$ (Blanchard et al. 2009, 2012)\n",
    "* $\\mu_0 = 0.1, z_0 = n-1=-1/3$ (Scott et al. 2012)\n",
    "\n",
    "### Senescent mortality (Blanchard et al. 2009, 2012 only)\n",
    "\n",
    "\"Although we have no data to support such a functional form, it seems intuitively obvious that it must occur at the limit in unexploited fish populations to prevent the buildup of very large fish\" ([Hall et al, 2006](https://doi.org/10.1139/f06-039))\n",
    "\n",
    "$$\\mu_s = 0.2 (w/w_s)^{z_s}$$ with $z_s=0.3$ and $w_s$ = 1 kg"
   ],
   "cell_type": "markdown",
   "metadata": {}
  },
  {
   "cell_type": "code",
   "execution_count": null,
   "metadata": {},
   "outputs": [],
   "source": [
    "fig, ax = pyplot.subplots()\n",
    "\n",
    "mu_0 = 0.2\n",
    "z0exp = -0.25\n",
    "mu_b = mu_0 * w_grid**z0exp\n",
    "\n",
    "z_spre = 0.2 # Blanchard et al. 2009, 2012\n",
    "w_s = 1000.\n",
    "z_s = 0.3\n",
    "mu_s = z_spre * (w_grid / w_s)**z_s\n",
    "\n",
    "ax.semilogx(w_grid, mu_b, label='intrinsic mortality $\\mu_b$')\n",
    "ax.semilogx(w_grid, mu_s, label='senescent mortality $\\mu_s$')\n",
    "ax.semilogx(w_grid, mu_b + mu_s, '--k', label='combined')\n",
    "ax.set_xlabel('wet mass (g)')\n",
    "ax.set_ylabel('mortality (1/yr)')\n",
    "ax.grid()\n",
    "ax.legend();"
   ]
  },
  {
   "source": [
    "## Temperature dependence\n",
    "\n",
    "[Blanchard et al. (2012)](https://doi.org/10.1098/rstb.2012.0231) apply an Arrhenius relationship to all rates:\n",
    "\n",
    "$$\\exp \\left[ c1 - \\frac{E_a}{k (T + 273.15)} \\right]$$\n",
    "\n",
    "* $E_a$ = 0.63 eV is the activation energy\n",
    "* $k$ the Boltzmann constant ($8.62 \\times 10^{-5}$ eV/K)\n",
    "* $T$ the temperature in °C\n",
    "\n",
    "$c1=25.55$ represents $E_a / (k (T + 273.15)$ for a reference temperature, which can be reconstructed to have been 13°C."
   ],
   "cell_type": "markdown",
   "metadata": {}
  },
  {
   "cell_type": "code",
   "execution_count": null,
   "metadata": {},
   "outputs": [],
   "source": [
    "# Illustrate temperature dependence introduced by Blanchard et al. (2012, 10.1098/rstb.2012.0231)\n",
    "# For comparison add curve for Q10=2\n",
    "E_a = 0.63   # activation energy (eV)\n",
    "T_ref = 13.  # reference temperature\n",
    "k = 8.62e-5  # Boltzmann constant (eV K-1)\n",
    "c1 = E_a / k / (T_ref + 273.15) # minus natural log of scale factor at reference temperature (equal to c1 in Blanchard et al.)\n",
    "print('c1 = %.2f (cf. Blanchard et al. 2012)' % c1)\n",
    "T = numpy.linspace(-2., 30, 1000)\n",
    "tau = numpy.exp(c1 - E_a / k / (T + 273.15))\n",
    "fig, ax = pyplot.subplots()\n",
    "ax.plot(T, tau, '-', label='Arrhenius with $E_a = 0.63$ (Blanchard et al. 2012)')\n",
    "ax.plot(T, 2.8**((T - T_ref) / 10.), '--', label='$Q_{10}=2.8$ (Kiørboe 2011, Hansen et al. 1997)')\n",
    "ax.plot(T, 2.**((T - T_ref) / 10.), '--', label='$Q_{10}=2$')\n",
    "ax.set_xlabel('temperature (degrees Celsius)')\n",
    "ax.set_ylabel('relative rate (-)')\n",
    "ax.axvline(T_ref, linestyle=':', color='k')\n",
    "ax.legend()\n",
    "ax.grid()"
   ]
  },
  {
   "cell_type": "code",
   "execution_count": null,
   "metadata": {},
   "outputs": [],
   "source": []
  }
 ]
}