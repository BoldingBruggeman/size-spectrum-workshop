{
 "metadata": {
  "language_info": {
   "codemirror_mode": {
    "name": "ipython",
    "version": 3
   },
   "file_extension": ".py",
   "mimetype": "text/x-python",
   "name": "python",
   "nbconvert_exporter": "python",
   "pygments_lexer": "ipython3",
   "version": "3.8.8"
  },
  "orig_nbformat": 2,
  "kernelspec": {
   "name": "python388jvsc74a57bd097ae724bfa85b9b34df7982b8bb8c7216f435b92902d749e4263f71162bea840",
   "display_name": "Python 3.8.8 64-bit (conda)"
  }
 },
 "nbformat": 4,
 "nbformat_minor": 2,
 "cells": [
  {
   "cell_type": "code",
   "execution_count": null,
   "metadata": {},
   "outputs": [],
   "source": [
    "import numpy\n",
    "import scipy.stats\n",
    "%matplotlib widget\n",
    "from matplotlib import pyplot"
   ]
  },
  {
   "cell_type": "code",
   "execution_count": null,
   "metadata": {},
   "outputs": [],
   "source": [
    "# Set up a grid for wet mass\n",
    "w_min, w_max = 0.001, 1e6\n",
    "w_grid = 10.**numpy.linspace(numpy.log10(w_min), numpy.log10(w_max), 1000)"
   ]
  },
  {
   "source": [
    "## Prey preference [(Scott et al. 2014)](https://doi.org/10.1111/2041-210X.12256)\n",
    "* for a single species: $\\sigma = 1$\n",
    "* for a community: $\\sigma = 2$ or $\\sigma = \\ln{10} \\approx 2.3$"
   ],
   "cell_type": "markdown",
   "metadata": {}
  },
  {
   "cell_type": "code",
   "execution_count": null,
   "metadata": {},
   "outputs": [],
   "source": [
    "beta = 100.                        # preferred predator : prey amss ratio\n",
    "sigmas = [1, 2., numpy.log(10.)]   # standard deviation of sleecivity function (ln g)\n",
    "w_predator = 100.\n",
    "fig, ax = pyplot.subplots()\n",
    "for sigma in sigmas:\n",
    "    rho = numpy.exp(-(numpy.log(w_grid) - numpy.log(w_predator / beta))**2 / (2. * sigma**2))\n",
    "    ax.plot(w_grid, rho, label='$\\sigma = %.2f$' % sigma)\n",
    "ax.set_xscale('log')\n",
    "ax.axvline(w_predator, linestyle='--', color='k', label='predator mass')\n",
    "ax.set_ylabel('predator preference (-)')\n",
    "ax.set_xlabel('prey mass (g)')\n",
    "ax.grid()\n",
    "ax.legend();"
   ]
  },
  {
   "source": [
    "## Clearance rate"
   ],
   "cell_type": "markdown",
   "metadata": {}
  },
  {
   "cell_type": "code",
   "execution_count": null,
   "metadata": {},
   "outputs": [],
   "source": [
    "benoit_blanchard = 640 * w_grid**0.82\n",
    "acuna = 10.**14.076 * w_grid**0.926 * 1e-3 * 365 * numpy.exp(-0.65 / 8.62e-5 / (273.15 + 13))  # convert from L to m3, from 1/d to 1/yr, apply Arrhenius temperature correction\n",
    "acuna2 = 91.32 * w_grid**0.776\n",
    "kiorboe = 10.**7.31 * (0.1 * w_grid)**(1.01) * 1e-6 * 365 * 2.8**-0.2  # convert from ml to m3, from 1/d to 1/yr, apply Q10 temperature correction\n",
    "\n",
    "fig, ax = pyplot.subplots()\n",
    "\n",
    "ax.loglog(w_grid, benoit_blanchard, '-', label='Benoît et al. 2004, Blanchard et al. 2009')\n",
    "ax.loglog(w_grid[w_grid<1e4], acuna[w_grid<1e4], '-', label='Acuña et al. 2009')\n",
    "ax.loglog(w_grid[w_grid<10.], kiorboe[w_grid<10.], '-', label='Kiørboe et al. 2011')\n",
    "ax.set_xlabel('individual mass (g)')\n",
    "ax.set_ylabel('clearance rate (m³/yr)')\n",
    "ax.axhline(365., linestyle='--', color='k', label='1 m³/d')\n",
    "ax.legend()\n",
    "ax.grid()\n",
    "\n",
    "import csv\n",
    "ww, clearance = [], []\n",
    "with open('../datasets/Acuna_et_al_2012_table_S1.dat') as f:\n",
    "    for name2value in csv.DictReader(f, delimiter='\\t'):\n",
    "        if name2value['functional type'] in ('SF',):\n",
    "            temp_corr = numpy.exp(-0.65 / 8.62e-5 * (1./ (273.15 + 13.) - 1./ (273.15 + float(name2value['Temp']))))\n",
    "            ww.append(float(name2value['WW']))\n",
    "            clearance.append(float(name2value['Clearance']) * temp_corr * 1e-3 * 365)\n",
    "ax.loglog(ww, clearance, '.', mec='gray', mfc='w', label='Acuña et al. 2009 Fig2A', zorder=-1);"
   ]
  },
  {
   "source": [
    "## Fisheries mortality and its size selectivity\n",
    "* linear: [Blanchard et al, 2009](https://doi.org/10.1111/j.1365-2656.2008.01466.x)\n",
    "* knife-edge: [Blanchard et al, 2012](https://doi.org/10.1098/rstb.2012.0231)\n",
    "* sigmoid: [Blanchard et al, 2014](https://doi.org/10.1111/1365-2664.12238)"
   ],
   "cell_type": "markdown",
   "metadata": {}
  },
  {
   "cell_type": "code",
   "execution_count": null,
   "metadata": {},
   "outputs": [],
   "source": [
    "fig, (ax1, ax2, ax3) = pyplot.subplots(ncols=3, figsize=(12,5))\n",
    "\n",
    "# Linear\n",
    "f = 0.09 * numpy.log10(w_grid) + 0.04; f[w_grid < 10.] = 0\n",
    "ax1.semilogx(w_grid, f,'-')\n",
    "ax1.set_title('linear')\n",
    "\n",
    "# Knife-edge\n",
    "f1 = numpy.full_like(w_grid, 0.8); f1[w_grid < 1.25] = 0\n",
    "f2 = numpy.full_like(w_grid, 0.2); f2[w_grid < 1.25] = 0\n",
    "ax2.semilogx(w_grid, f1,'-')\n",
    "ax2.semilogx(w_grid, f2,'--')\n",
    "ax2.set_title('knife-edge')\n",
    "\n",
    "# Sigmoid\n",
    "w25 = numpy.log(10.)   # wet mass where fishing pressure is 25% of maximum\n",
    "w50 = numpy.log(100.)  # wet mass where fishing pressure is 50% of maximum\n",
    "S2 = numpy.log(3)/(w50-w25)\n",
    "S1 = S2 * w50\n",
    "f = 0.8 * 1. / (1. + numpy.exp(S1 - S2 * numpy.log(w_grid)))\n",
    "ax3.semilogx(w_grid, f, '-')\n",
    "ax3.set_title('sigmoid')\n",
    "\n",
    "ax1.set_ylabel('fisheries mortality (1/yr)')\n",
    "for ax in (ax1, ax2, ax3):\n",
    "    ax.set_xlabel('individual wet mass (g)')\n",
    "    ax.set_xlim(.001, 1e6)\n",
    "    ax.set_ylim(None, 1)\n",
    "    ax.grid()"
   ]
  },
  {
   "source": [
    "## Temperature dependence introduced by [Blanchard et al. (2012)](https://doi.org/10.1098/rstb.2012.0231)"
   ],
   "cell_type": "markdown",
   "metadata": {}
  },
  {
   "cell_type": "code",
   "execution_count": null,
   "metadata": {},
   "outputs": [],
   "source": [
    "# Illustrate temperature dependence introduced by Blanchard et al. (2012, 10.1098/rstb.2012.0231)\n",
    "# For comparison add curve for Q10=2\n",
    "E_a = 0.63   # activation energy (eV)\n",
    "T_ref = 13.  # reference temperature\n",
    "k = 8.62e-5  # Boltzmann constant (eV K-1)\n",
    "c1 = E_a / k / (T_ref + 273.15) # minus natural log of scale factor at reference temperature (equal to c1 in Blanchard et al.)\n",
    "print('c1 = %.2f (cf. Blanchard et al. 2012)' % c1)\n",
    "T = numpy.linspace(-2., 30, 1000)\n",
    "tau = numpy.exp(c1 - E_a / k / (T + 273.15))\n",
    "fig, ax = pyplot.subplots()\n",
    "ax.plot(T, tau, '-', label='Arrhenius with $E_a = 0.63$ (Blanchard et al. 2012)')\n",
    "ax.plot(T, 2.8**((T - T_ref) / 10.), '--', label='$Q_{10}=2.8$ (Kiørboe 2011, Hansen et al. 1997)')\n",
    "ax.plot(T, 2.**((T - T_ref) / 10.), '--', label='$Q_{10}=2$')\n",
    "ax.set_xlabel('temperature (degrees Celsius)')\n",
    "ax.set_ylabel('relative rate (-)')\n",
    "ax.axvline(T_ref, linestyle=':', color='k')\n",
    "ax.legend()\n",
    "ax.grid()"
   ]
  },
  {
   "cell_type": "code",
   "execution_count": null,
   "metadata": {},
   "outputs": [],
   "source": []
  }
 ]
}