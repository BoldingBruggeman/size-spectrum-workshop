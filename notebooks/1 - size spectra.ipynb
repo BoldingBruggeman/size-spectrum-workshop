{
 "metadata": {
  "language_info": {
   "codemirror_mode": {
    "name": "ipython",
    "version": 3
   },
   "file_extension": ".py",
   "mimetype": "text/x-python",
   "name": "python",
   "nbconvert_exporter": "python",
   "pygments_lexer": "ipython3",
   "version": "3.8.8"
  },
  "orig_nbformat": 2,
  "kernelspec": {
   "name": "python388jvsc74a57bd097ae724bfa85b9b34df7982b8bb8c7216f435b92902d749e4263f71162bea840",
   "display_name": "Python 3.8.8 64-bit ('base': conda)"
  }
 },
 "nbformat": 4,
 "nbformat_minor": 2,
 "cells": [
  {
   "source": [
    "This notebook was written by Jorn Bruggeman for a workshop held 18-19 May 2021 as part of a contract from the [National Oceanography Centre](https://noc.ac.uk) to [Bolding & Bruggeman ApS](https://bolding-bruggeman.com/). It is licensed under a [Creative Commons Attribution 4.0 International License](http://creativecommons.org/licenses/by/4.0/)."
   ],
   "cell_type": "markdown",
   "metadata": {}
  },
  {
   "cell_type": "code",
   "execution_count": null,
   "metadata": {},
   "outputs": [],
   "source": [
    "import numpy\n",
    "import scipy.stats\n",
    "%matplotlib widget\n",
    "from matplotlib import pyplot"
   ]
  },
  {
   "source": [
    "## The Sheldon-Sutcliffe size spectrum [(Sheldon et al. 1972)](https://doi.org/10.4319/lo.1972.17.3.0327)"
   ],
   "cell_type": "markdown",
   "metadata": {}
  },
  {
   "cell_type": "code",
   "execution_count": null,
   "metadata": {},
   "outputs": [],
   "source": [
    "# Generate a Sheldon-Sutcliffe spectrum (equal biomass in log-spaced bins)\n",
    "# with some random noise superimposed\n",
    "\n",
    "noise_sd = 0.2   # coefficient of variation of log biomass\n",
    "\n",
    "binbounds = numpy.arange(-3, 7)  # log10 of individual mass\n",
    "bincentres = 0.5 * (binbounds[1:] + binbounds[:-1])\n",
    "binwidth = 10.**binbounds[1:] - 10.**binbounds[:-1]\n",
    "biomass = numpy.ones_like(bincentres)\n",
    "biomass = 10.**(1. + noise_sd * numpy.random.normal(size=bincentres.shape))"
   ]
  },
  {
   "cell_type": "code",
   "execution_count": null,
   "metadata": {},
   "outputs": [],
   "source": [
    "# Plot size spectrum (biomass per bin)\n",
    "fig, ax = pyplot.subplots()\n",
    "ax.bar(10.**binbounds[:-1], biomass, width=.9*binwidth, align='edge')\n",
    "ax.set_xscale('log')\n",
    "ax.set_yscale('log')\n",
    "ax.set_ylabel('biomass (g)')\n",
    "ax.set_xlabel('individual wet mass (g)')\n",
    "ax.set_ylim(1, 100)\n",
    "ax.grid()"
   ]
  },
  {
   "source": [
    "## Biomass density"
   ],
   "cell_type": "markdown",
   "metadata": {}
  },
  {
   "cell_type": "code",
   "execution_count": null,
   "metadata": {},
   "outputs": [],
   "source": [
    "# Convert to biomass density by dividing by bin width\n",
    "fig, ax = pyplot.subplots()\n",
    "ax.plot(10.**bincentres, biomass / binwidth, 'o')\n",
    "x = bincentres\n",
    "y = numpy.log10(biomass / binwidth)\n",
    "regr = scipy.stats.linregress(x, y)\n",
    "ax.plot([10.**x[0], 10.**x[-1]], [10.**(regr.intercept + regr.slope * x[0]), 10.**(regr.intercept + regr.slope * x[-1])], '-r')\n",
    "ax.text(0.55, 0.5, 'slope = %.3f' % regr.slope, color='r', transform=ax.transAxes)\n",
    "ax.set_xscale('log')\n",
    "ax.set_yscale('log')\n",
    "ax.set_ylabel('biomass density (g/g)')\n",
    "ax.set_xlabel('individual wet mass (g)')\n",
    "ax.grid()"
   ]
  },
  {
   "source": [
    "## Abundance density"
   ],
   "cell_type": "markdown",
   "metadata": {}
  },
  {
   "cell_type": "code",
   "execution_count": null,
   "metadata": {},
   "outputs": [],
   "source": [
    "# Convert to abundance density by dividing by biomass at bin centre\n",
    "fig, ax = pyplot.subplots()\n",
    "x = bincentres\n",
    "y = numpy.log10(biomass / binwidth) - bincentres\n",
    "regr = scipy.stats.linregress(x, y)\n",
    "ax.plot(10.**bincentres, biomass / binwidth / 10.**bincentres, 'o')\n",
    "ax.plot([10.**x[0], 10.**x[-1]], [10.**(regr.intercept + regr.slope * x[0]), 10.**(regr.intercept + regr.slope * x[-1])], '-r')\n",
    "ax.text(0.55, 0.5, 'slope = %.3f' % regr.slope, color='r', transform=ax.transAxes)\n",
    "ax.set_xscale('log')\n",
    "ax.set_yscale('log')\n",
    "ax.set_ylabel('abundance density (#/g)')\n",
    "ax.set_xlabel('individual wet mass (g)')\n",
    "ax.grid()"
   ]
  },
  {
   "cell_type": "code",
   "execution_count": null,
   "metadata": {},
   "outputs": [],
   "source": []
  }
 ]
}