{
 "metadata": {
  "language_info": {
   "codemirror_mode": {
    "name": "ipython",
    "version": 3
   },
   "file_extension": ".py",
   "mimetype": "text/x-python",
   "name": "python",
   "nbconvert_exporter": "python",
   "pygments_lexer": "ipython3",
   "version": "3.8.8"
  },
  "orig_nbformat": 2,
  "kernelspec": {
   "name": "python388jvsc74a57bd097ae724bfa85b9b34df7982b8bb8c7216f435b92902d749e4263f71162bea840",
   "display_name": "Python 3.8.8 64-bit ('base': conda)"
  }
 },
 "nbformat": 4,
 "nbformat_minor": 2,
 "cells": [
  {
   "source": [
    "This notebook was written by Jorn Bruggeman for a workshop held 18-19 May 2021 as part of a contract from the [National Oceanography Centre](https://noc.ac.uk) to [Bolding & Bruggeman ApS](https://bolding-bruggeman.com/). It is licensed under a [Creative Commons Attribution 4.0 International License](http://creativecommons.org/licenses/by/4.0/)."
   ],
   "cell_type": "markdown",
   "metadata": {}
  },
  {
   "cell_type": "code",
   "execution_count": null,
   "metadata": {},
   "outputs": [],
   "source": [
    "import datetime\n",
    "import subprocess\n",
    "\n",
    "import numpy\n",
    "import scipy.stats\n",
    "%matplotlib widget\n",
    "from matplotlib import pyplot\n",
    "from matplotlib.dates import num2date, date2num\n",
    "import netCDF4\n",
    "from ipywidgets import widgets\n",
    "\n",
    "import sys\n",
    "sys.path.append('../extern/fabm-mizer/python')\n",
    "import mizer\n",
    "\n",
    "# Function for converting from Equivalent Spherical Diameter (micrometer) to wet mass in g\n",
    "def esd2mass(d): # d: equivalent spherical diameter in micrometer\n",
    "    V = 4./3. * numpy.pi * (numpy.array(d) / 2e6)**3  # V: volume in m3\n",
    "    return V * 1e6  # mass in g approximately equals volume in m3 multiplied by 1e6 (assumes density of 1000 kg/m3)"
   ]
  },
  {
   "cell_type": "code",
   "execution_count": null,
   "metadata": {},
   "outputs": [],
   "source": [
    "# Run 1D simulation for NABE site (GOTM + FABM + MEDUSA)\n",
    "# Forcing from https://igotm.bolding-bruggeman.com/\n",
    "subprocess.check_call(['gotm'], cwd='../datasets/gotm-NABE', shell=True)"
   ]
  },
  {
   "cell_type": "code",
   "execution_count": null,
   "metadata": {},
   "outputs": [],
   "source": [
    "# Read NetCDF\n",
    "path = '../datasets/gotm-NABE/result.nc'\n",
    "with netCDF4.Dataset(path) as nc:\n",
    "    temp = nc['temp'][:, :, 0, 0]\n",
    "    ZME = nc['pelagic_ZME'][:, :, 0, 0]\n",
    "    ZMI = nc['pelagic_ZMI'][:, :, 0, 0]\n",
    "    PHD = nc['pelagic_PHD'][:, :, 0, 0]\n",
    "    PHN = nc['pelagic_PHN'][:, :, 0, 0]\n",
    "    h = nc['h'][:, :, 0, 0]\n",
    "    z = nc['z'][:, :, 0, 0]\n",
    "    PT = ZME + ZMI + PHD + PHN\n",
    "    numtime = nc['time'][:]\n",
    "    numtime = numpy.broadcast_to(numtime[:, numpy.newaxis], z.shape)\n",
    "    time = netCDF4.num2date(numtime, nc['time'].units, only_use_cftime_datetimes=False)"
   ]
  },
  {
   "cell_type": "code",
   "execution_count": null,
   "metadata": {},
   "outputs": [],
   "source": [
    "# Plot total plankton concentration\n",
    "fig, (ax1, ax2) = pyplot.subplots(figsize=(8, 7), nrows=2)\n",
    "c = ax1.contourf(time, z, PT, numpy.linspace(0, 2.5, 51))\n",
    "ax1.set_xlabel('time')\n",
    "ax1.set_ylabel('depth (m)')\n",
    "cb = fig.colorbar(c, ax=ax1)\n",
    "cb.set_label('total plankton (mmol N/m³)')\n",
    "ax1.set_ylim(-250, 0)\n",
    "ax1.set_xlim(datetime.datetime(2018,1,1), datetime.datetime(2020,1,1))\n",
    "\n",
    "# Plot inferred predator interaction depth\n",
    "h_int = (PT*h).sum(axis=1)**2/(PT**2*h).sum(axis=1)\n",
    "\n",
    "ax2.plot(time[:,0], h_int)\n",
    "ax2.set_xlabel('time')\n",
    "ax2.set_ylabel('interaction depth (m)')\n",
    "ax2.set_xlim(datetime.datetime(2018,1,1), datetime.datetime(2020,1,1))\n",
    "ax2.set_ylim(0, 250)\n",
    "ax2.grid()\n",
    "\n",
    "fig.savefig('h_int.png', dpi=300)"
   ]
  },
  {
   "cell_type": "code",
   "execution_count": null,
   "metadata": {},
   "outputs": [],
   "source": [
    "# Calculate weights describing vertical predator distribution\n",
    "weights = PT * h\n",
    "\n",
    "# Average PFTs\n",
    "PHN_ave = (weights * PHN).sum(axis=1) / weights.sum(axis=1) \n",
    "PHD_ave = (weights * PHD).sum(axis=1) / weights.sum(axis=1) \n",
    "ZMI_ave = (weights * ZMI).sum(axis=1) / weights.sum(axis=1) \n",
    "ZME_ave = (weights * ZME).sum(axis=1) / weights.sum(axis=1) \n",
    "\n",
    "# Plot\n",
    "fig, (ax1, ax2, ax3, ax4) = pyplot.subplots(nrows=4, figsize=(8, 12))\n",
    "ax1.plot(time[:,0], PHN[:, -1], label='surface')\n",
    "ax1.plot(time[:,0], PHN_ave, label='predator average')\n",
    "ax1.set_title('non-diatoms')\n",
    "ax2.plot(time[:,0], PHD[:, -1], label='surface')\n",
    "ax2.plot(time[:,0], PHD_ave, label='predator average')\n",
    "ax2.set_title('diatoms')\n",
    "ax3.plot(time[:,0], ZMI[:, -1], label='surface')\n",
    "ax3.plot(time[:,0], ZMI_ave, label='predator average')\n",
    "ax3.set_title('microzooplankton')\n",
    "ax4.plot(time[:,0], ZME[:, -1], label='surface')\n",
    "ax4.plot(time[:,0], ZME_ave, label='predator average')\n",
    "ax4.set_title('mesozooplankton')\n",
    "for ax in (ax1, ax2, ax3, ax4):\n",
    "    ax.grid()\n",
    "    ax.legend()\n",
    "    ax.set_ylabel('concentration (mmol N/m³)')"
   ]
  }
 ]
}